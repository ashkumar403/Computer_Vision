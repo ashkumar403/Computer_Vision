{
 "cells": [
  {
   "cell_type": "code",
   "execution_count": 5,
   "metadata": {},
   "outputs": [
    {
     "name": "stdout",
     "output_type": "stream",
     "text": [
      "Please make sure the picture file is in the same directory\n",
      "Basic Color Image Size is:  (720, 1280, 3)\n",
      "B&W SIZE is:  (720, 1280)\n"
     ]
    },
    {
     "data": {
      "text/plain": [
       "-1"
      ]
     },
     "execution_count": 5,
     "metadata": {},
     "output_type": "execute_result"
    }
   ],
   "source": [
    "# This program will read an image and process it for size reduction, color change etc.\n",
    "# This is written for \"COMPUTER-VISION\" learning.\n",
    "\n",
    "# Load numpy and OpenCV Libraries\n",
    "import numpy as np\n",
    "import cv2\n",
    "\n",
    "print (\"Please make sure the picture file is in the same directory\")\n",
    "\n",
    "#filename=input(\"Please type your picture filename:\")\n",
    "\n",
    "#Read an Image from the same directory\n",
    "Color=cv2.imread(\"desktop/ak59.jpg\")\n",
    "\n",
    "# Show the Image on Screen\n",
    "cv2.imshow('image',Color)\n",
    "\n",
    "# Wait till next \n",
    "cv2.waitKey(0)\n",
    "\n",
    "# SHow the SIZE of the Image\n",
    "AK= np.array (Color)\n",
    "print (\"Basic Color Image Size is: \", Color.shape)\n",
    "\n",
    "# Change the COLOR of the Resized Image and show the same\n",
    "BandW=cv2.cvtColor(Color, cv2.COLOR_BGR2GRAY)\n",
    "cv2.imshow('Black and White Image', BandW)\n",
    "print (\"B&W SIZE is: \", BandW.shape)\n",
    "cv2.waitKey(0)\n",
    "\n",
    "# Draw a Rectangle at a fixed location\n",
    "cv2.rectangle (Color, (500,200),(800,300),(255,0,0),3)\n",
    "cv2.imshow('with rectangle',Color)\n",
    "cv2.waitKey(0)\n"
   ]
  },
  {
   "cell_type": "code",
   "execution_count": 6,
   "metadata": {},
   "outputs": [
    {
     "data": {
      "text/plain": [
       "27"
      ]
     },
     "execution_count": 6,
     "metadata": {},
     "output_type": "execute_result"
    }
   ],
   "source": [
    "# FACE and EYES DETECTION PROGRAM\n",
    "\n",
    "# Create a Class/Object for Cascading the Face and Eyes\n",
    "Face=cv2.CascadeClassifier('desktop/face.xml')\n",
    "Eyes=cv2.CascadeClassifier('desktop/eyes.xml')\n",
    "\n",
    "#detect the Classifier in the Image\n",
    "face=Face.detectMultiScale(BandW,1.1,5)\n",
    "eyes=Eyes.detectMultiScale(BandW,1.2,3)\n",
    "\n",
    "for (x,y,w,h) in face: cv2.rectangle(Color,(x,y),((x+w),(y+h)),(0,255,0),3)\n",
    "    \n",
    "for (x,y,w,h) in eyes: cv2.rectangle(Color,(x,y),(x+w,y+h),(255,0,0),1)\n",
    "\n",
    "cv2.imshow ('Face Detected', Color)\n",
    "cv2.waitKey(0)"
   ]
  },
  {
   "cell_type": "code",
   "execution_count": null,
   "metadata": {},
   "outputs": [],
   "source": []
  },
  {
   "cell_type": "code",
   "execution_count": null,
   "metadata": {},
   "outputs": [],
   "source": []
  }
 ],
 "metadata": {
  "kernelspec": {
   "display_name": "Python 3",
   "language": "python",
   "name": "python3"
  },
  "language_info": {
   "codemirror_mode": {
    "name": "ipython",
    "version": 3
   },
   "file_extension": ".py",
   "mimetype": "text/x-python",
   "name": "python",
   "nbconvert_exporter": "python",
   "pygments_lexer": "ipython3",
   "version": "3.8.5"
  }
 },
 "nbformat": 4,
 "nbformat_minor": 4
}
