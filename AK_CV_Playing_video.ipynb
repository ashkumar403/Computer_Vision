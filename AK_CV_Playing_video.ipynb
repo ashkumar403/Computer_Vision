{
 "metadata": {
  "language_info": {
   "codemirror_mode": {
    "name": "ipython",
    "version": 3
   },
   "file_extension": ".py",
   "mimetype": "text/x-python",
   "name": "python",
   "nbconvert_exporter": "python",
   "pygments_lexer": "ipython3",
   "version": "3.8.7-final"
  },
  "orig_nbformat": 2,
  "kernelspec": {
   "name": "python3",
   "display_name": "Python 3.8.7 32-bit",
   "metadata": {
    "interpreter": {
     "hash": "e13229107a39514ffad5a0dddf92a30ead16eade528f279871e43858dfaee0f2"
    }
   }
  }
 },
 "nbformat": 4,
 "nbformat_minor": 2,
 "cells": [
  {
   "cell_type": "code",
   "execution_count": 2,
   "metadata": {},
   "outputs": [
    {
     "output_type": "stream",
     "name": "stdout",
     "text": [
      "1080.0\n1920.0\n"
     ]
    }
   ],
   "source": [
    "import cv2 as cv\n",
    "\n",
    "# this will demand for the file name\n",
    "filename = str(input(\"Enter the file name\"))\n",
    "\n",
    "# this will start capture the video\n",
    "cap = cv.VideoCapture(filename)\n",
    "\n",
    "# if the cap.isOpened() is true then it will start the loop\n",
    "while cap.isOpened():\n",
    "    \n",
    "    ret,frame = cap.read()\n",
    "\n",
    "    cv.imshow('frame', frame)\n",
    "    \n",
    "    if cv.waitKey(1) == ord('q'): #by pressing the q we can teminate the frame\n",
    "        print(cap.get(cv.CAP_PROP_FRAME_HEIGHT))# this will print the height of the frame\n",
    "        print(cap.get(cv.CAP_PROP_FRAME_WIDTH))# this will print the width of the frame\n",
    "        break\n",
    "\n",
    "cap.release()"
   ]
  }
 ]
}